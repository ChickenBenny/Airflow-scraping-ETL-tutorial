{
 "cells": [
  {
   "cell_type": "code",
   "execution_count": 53,
   "metadata": {},
   "outputs": [],
   "source": [
    "import time\n",
    "import pandas as pd\n",
    "import numpy as np\n",
    "import datetime as dt\n",
    "from bs4 import BeautifulSoup\n",
    "import requests\n"
   ]
  },
  {
   "cell_type": "code",
   "execution_count": 55,
   "metadata": {},
   "outputs": [
    {
     "name": "stdout",
     "output_type": "stream",
     "text": [
      "資料爬取成功\n"
     ]
    }
   ],
   "source": [
    "date = dt.datetime(2022, 8, 19).strftime(\"%Y%m%d\")\n",
    "columns = ['日期', '自營商(買賣)買進', '自營商(買賣)賣出', '自營商(買賣)買賣差額', '自營商(避險)買進', '自營商(避險)賣出', '自營商(避險)買賣差額', '投信買進', '投信賣出', '投信買賣差額', '外資買進', '外資賣出', '外資買賣差額']\n",
    "url = f\"https://www.twse.com.tw/fund/BFI82U?response=json&dayDate={date}\"\n",
    "res = requests.get(url)\n",
    "res = res.json()\n",
    "\n",
    "if res['stat'] == \"OK\":\n",
    "    df_res = pd.DataFrame.from_dict(res['data'])\n",
    "    df_res = df_res.drop(0, axis = 1)\n",
    "    df_res = df_res.iloc[:-1, ]\n",
    "    df_res = df_res.values.reshape(1, -1)\n",
    "    df_res = pd.DataFrame(df_res, columns=columns[1:])\n",
    "    print(\"資料爬取成功\")\n",
    "else:\n",
    "    print('無交易資料')"
   ]
  },
  {
   "cell_type": "code",
   "execution_count": 56,
   "metadata": {},
   "outputs": [
    {
     "data": {
      "text/html": [
       "<div>\n",
       "<style scoped>\n",
       "    .dataframe tbody tr th:only-of-type {\n",
       "        vertical-align: middle;\n",
       "    }\n",
       "\n",
       "    .dataframe tbody tr th {\n",
       "        vertical-align: top;\n",
       "    }\n",
       "\n",
       "    .dataframe thead th {\n",
       "        text-align: right;\n",
       "    }\n",
       "</style>\n",
       "<table border=\"1\" class=\"dataframe\">\n",
       "  <thead>\n",
       "    <tr style=\"text-align: right;\">\n",
       "      <th></th>\n",
       "      <th>自營商(買賣)買進</th>\n",
       "      <th>自營商(買賣)賣出</th>\n",
       "      <th>自營商(買賣)買賣差額</th>\n",
       "      <th>自營商(避險)買進</th>\n",
       "      <th>自營商(避險)賣出</th>\n",
       "      <th>自營商(避險)買賣差額</th>\n",
       "      <th>投信買進</th>\n",
       "      <th>投信賣出</th>\n",
       "      <th>投信買賣差額</th>\n",
       "      <th>外資買進</th>\n",
       "      <th>外資賣出</th>\n",
       "      <th>外資買賣差額</th>\n",
       "    </tr>\n",
       "  </thead>\n",
       "  <tbody>\n",
       "    <tr>\n",
       "      <th>0</th>\n",
       "      <td>2,279,109,983</td>\n",
       "      <td>1,817,670,433</td>\n",
       "      <td>461,439,550</td>\n",
       "      <td>5,567,838,537</td>\n",
       "      <td>5,073,450,525</td>\n",
       "      <td>494,388,012</td>\n",
       "      <td>4,094,216,360</td>\n",
       "      <td>2,519,550,872</td>\n",
       "      <td>1,574,665,488</td>\n",
       "      <td>52,999,169,995</td>\n",
       "      <td>60,297,278,126</td>\n",
       "      <td>-7,298,108,131</td>\n",
       "    </tr>\n",
       "  </tbody>\n",
       "</table>\n",
       "</div>"
      ],
      "text/plain": [
       "       自營商(買賣)買進      自營商(買賣)賣出  自營商(買賣)買賣差額      自營商(避險)買進      自營商(避險)賣出  \\\n",
       "0  2,279,109,983  1,817,670,433  461,439,550  5,567,838,537  5,073,450,525   \n",
       "\n",
       "   自營商(避險)買賣差額           投信買進           投信賣出         投信買賣差額            外資買進  \\\n",
       "0  494,388,012  4,094,216,360  2,519,550,872  1,574,665,488  52,999,169,995   \n",
       "\n",
       "             外資賣出          外資買賣差額  \n",
       "0  60,297,278,126  -7,298,108,131  "
      ]
     },
     "execution_count": 56,
     "metadata": {},
     "output_type": "execute_result"
    }
   ],
   "source": [
    "df_res"
   ]
  }
 ],
 "metadata": {
  "kernelspec": {
   "display_name": "Python 3.9.5 64-bit",
   "language": "python",
   "name": "python3"
  },
  "language_info": {
   "codemirror_mode": {
    "name": "ipython",
    "version": 3
   },
   "file_extension": ".py",
   "mimetype": "text/x-python",
   "name": "python",
   "nbconvert_exporter": "python",
   "pygments_lexer": "ipython3",
   "version": "3.9.5"
  },
  "orig_nbformat": 4,
  "vscode": {
   "interpreter": {
    "hash": "52634da84371cba311ea128a5ea7cdc41ff074b781779e754b270ff9f8153cee"
   }
  }
 },
 "nbformat": 4,
 "nbformat_minor": 2
}
