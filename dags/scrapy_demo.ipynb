{
 "cells": [
  {
   "cell_type": "code",
   "execution_count": 53,
   "metadata": {},
   "outputs": [],
   "source": [
    "import time\n",
    "import pandas as pd\n",
    "import numpy as np\n",
    "import datetime as dt\n",
    "from bs4 import BeautifulSoup\n",
    "import requests\n"
   ]
  },
  {
   "cell_type": "code",
   "execution_count": 70,
   "metadata": {},
   "outputs": [],
   "source": [
    "date = dt.datetime(2022, 8, 19).strftime(\"%Y%m%d\")\n",
    "columns = ['日期', '自營商(買賣)買進', '自營商(買賣)賣出', '自營商(買賣)買賣差額', '自營商(避險)買進', '自營商(避險)賣出', '自營商(避險)買賣差額', '投信買進', '投信賣出', '投信買賣差額', '外資買進', '外資賣出', '外資買賣差額']\n",
    "url = f\"https://www.twse.com.tw/fund/BFI82U?response=json&dayDate={date}\"\n",
    "res = requests.get(url)\n",
    "res = res.json()\n",
    "\n",
    "if res['stat'] == \"OK\":\n",
    "    df_res = pd.DataFrame.from_dict(res['data'])\n",
    "    df_res = df_res.drop(0, axis = 1)\n",
    "    df_res = df_res.iloc[:-1, ]\n",
    "    df_res = df_res.values.reshape(1, -1)\n",
    "    for i in range(df_res.shape[1]):\n",
    "        df_res[0, i] = df_res[0, i].replace(',', '')\n",
    "    print(\"資料爬取成功\")\n",
    "else:\n",
    "    print('無交易資料')"
   ]
  },
  {
   "cell_type": "code",
   "execution_count": 74,
   "metadata": {},
   "outputs": [
    {
     "data": {
      "text/plain": [
       "array([['2279109983', '1817670433', '461439550', '5567838537',\n",
       "        '5073450525', '494388012', '4094216360', '2519550872',\n",
       "        '1574665488', '52999169995', '60297278126', '-7298108131']],\n",
       "      dtype=object)"
      ]
     },
     "execution_count": 74,
     "metadata": {},
     "output_type": "execute_result"
    }
   ],
   "source": [
    "df_res"
   ]
  }
 ],
 "metadata": {
  "kernelspec": {
   "display_name": "Python 3.9.5 64-bit",
   "language": "python",
   "name": "python3"
  },
  "language_info": {
   "codemirror_mode": {
    "name": "ipython",
    "version": 3
   },
   "file_extension": ".py",
   "mimetype": "text/x-python",
   "name": "python",
   "nbconvert_exporter": "python",
   "pygments_lexer": "ipython3",
   "version": "3.9.5"
  },
  "orig_nbformat": 4,
  "vscode": {
   "interpreter": {
    "hash": "52634da84371cba311ea128a5ea7cdc41ff074b781779e754b270ff9f8153cee"
   }
  }
 },
 "nbformat": 4,
 "nbformat_minor": 2
}
