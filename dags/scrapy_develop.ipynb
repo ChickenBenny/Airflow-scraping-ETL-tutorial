{
 "cells": [
  {
   "cell_type": "code",
   "execution_count": 1,
   "metadata": {},
   "outputs": [],
   "source": [
    "import time\n",
    "import datetime as dt\n",
    "import requests\n"
   ]
  },
  {
   "cell_type": "code",
   "execution_count": 5,
   "metadata": {},
   "outputs": [],
   "source": [
    "date = dt.datetime(2022, 8, 19).strftime(\"%Y%m%d\")\n",
    "columns = ['日期', '自營商(買賣)買進', '自營商(買賣)賣出', '自營商(買賣)買賣差額', '自營商(避險)買進', '自營商(避險)賣出', '自營商(避險)買賣差額', '投信買進', '投信賣出', '投信買賣差額', '外資買進', '外資賣出', '外資買賣差額']\n",
    "url = f\"https://www.twse.com.tw/fund/BFI82U?response=json&dayDate={date}\"\n",
    "res = requests.get(url)"
   ]
  },
  {
   "cell_type": "code",
   "execution_count": 14,
   "metadata": {},
   "outputs": [
    {
     "data": {
      "text/plain": [
       "{'stat': 'OK',\n",
       " 'title': '111年08月19日 三大法人買賣金額統計表',\n",
       " 'fields': ['單位名稱', '買進金額', '賣出金額', '買賣差額'],\n",
       " 'date': '20220819',\n",
       " 'data': [['自營商(自行買賣)', '2,279,109,983', '1,817,670,433', '461,439,550'],\n",
       "  ['自營商(避險)', '5,567,838,537', '5,073,450,525', '494,388,012'],\n",
       "  ['投信', '4,094,216,360', '2,519,550,872', '1,574,665,488'],\n",
       "  ['外資及陸資', '52,999,169,995', '60,297,278,126', '-7,298,108,131'],\n",
       "  ['合計', '64,940,334,875', '69,707,949,956', '-4,767,615,081']],\n",
       " 'params': {'response': 'json',\n",
       "  'dayDate': '20220819',\n",
       "  'controller': 'fund',\n",
       "  'format': None,\n",
       "  'action': 'BFI82U',\n",
       "  'lang': 'zh',\n",
       "  'monthDate': '20220822',\n",
       "  'weekDate': '20220822'},\n",
       " 'notes': ['自營商表示證券自營商專戶。',\n",
       "  '投信表示本國投資信託基金。',\n",
       "  '外資及陸資表示依「華僑及外國人投資證券管理辦法」及「大陸地區投資人來臺從事證券投資及期貨交易管理辦法」辦理登記等投資人。',\n",
       "  '本統計資訊含一般、零股、盤後定價、鉅額，不含拍賣、標購。',\n",
       "  '本資訊以當日原始成交情形統計，不以證券商申報錯帳、更正帳號等調整後資料統計。']}"
      ]
     },
     "execution_count": 14,
     "metadata": {},
     "output_type": "execute_result"
    }
   ],
   "source": [
    "res.json()"
   ]
  },
  {
   "cell_type": "code",
   "execution_count": 12,
   "metadata": {},
   "outputs": [
    {
     "data": {
      "text/plain": [
       "'OK'"
      ]
     },
     "execution_count": 12,
     "metadata": {},
     "output_type": "execute_result"
    }
   ],
   "source": [
    "res.json()['stat']"
   ]
  },
  {
   "cell_type": "code",
   "execution_count": 7,
   "metadata": {},
   "outputs": [
    {
     "data": {
      "text/plain": [
       "[['自營商(自行買賣)', '2,279,109,983', '1,817,670,433', '461,439,550'],\n",
       " ['自營商(避險)', '5,567,838,537', '5,073,450,525', '494,388,012'],\n",
       " ['投信', '4,094,216,360', '2,519,550,872', '1,574,665,488'],\n",
       " ['外資及陸資', '52,999,169,995', '60,297,278,126', '-7,298,108,131'],\n",
       " ['合計', '64,940,334,875', '69,707,949,956', '-4,767,615,081']]"
      ]
     },
     "execution_count": 7,
     "metadata": {},
     "output_type": "execute_result"
    }
   ],
   "source": [
    "(res.json())['data']\n"
   ]
  },
  {
   "cell_type": "code",
   "execution_count": 10,
   "metadata": {},
   "outputs": [
    {
     "data": {
      "text/plain": [
       "['2279109983',\n",
       " '1817670433',\n",
       " '461439550',\n",
       " '5567838537',\n",
       " '5073450525',\n",
       " '494388012',\n",
       " '4094216360',\n",
       " '2519550872',\n",
       " '1574665488',\n",
       " '52999169995',\n",
       " '60297278126',\n",
       " '-7298108131']"
      ]
     },
     "execution_count": 10,
     "metadata": {},
     "output_type": "execute_result"
    }
   ],
   "source": [
    "data = []\n",
    "for i in ((res.json())['data'])[:-1]:\n",
    "    for j in range(1, len(i)):\n",
    "        data.append(i[j].replace(',', ''))\n",
    "data"
   ]
  },
  {
   "cell_type": "code",
   "execution_count": 15,
   "metadata": {},
   "outputs": [],
   "source": [
    "res = res.json()"
   ]
  },
  {
   "cell_type": "code",
   "execution_count": 19,
   "metadata": {},
   "outputs": [
    {
     "data": {
      "text/plain": [
       "[['自營商(自行買賣)', '2,279,109,983', '1,817,670,433', '461,439,550'],\n",
       " ['自營商(避險)', '5,567,838,537', '5,073,450,525', '494,388,012'],\n",
       " ['投信', '4,094,216,360', '2,519,550,872', '1,574,665,488'],\n",
       " ['外資及陸資', '52,999,169,995', '60,297,278,126', '-7,298,108,131']]"
      ]
     },
     "execution_count": 19,
     "metadata": {},
     "output_type": "execute_result"
    }
   ],
   "source": [
    "res['data'][:-1]"
   ]
  }
 ],
 "metadata": {
  "kernelspec": {
   "display_name": "Python 3.9.5 64-bit",
   "language": "python",
   "name": "python3"
  },
  "language_info": {
   "codemirror_mode": {
    "name": "ipython",
    "version": 3
   },
   "file_extension": ".py",
   "mimetype": "text/x-python",
   "name": "python",
   "nbconvert_exporter": "python",
   "pygments_lexer": "ipython3",
   "version": "3.9.5"
  },
  "orig_nbformat": 4,
  "vscode": {
   "interpreter": {
    "hash": "52634da84371cba311ea128a5ea7cdc41ff074b781779e754b270ff9f8153cee"
   }
  }
 },
 "nbformat": 4,
 "nbformat_minor": 2
}
